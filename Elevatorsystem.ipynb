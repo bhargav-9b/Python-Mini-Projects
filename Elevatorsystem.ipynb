{
 "cells": [
  {
   "cell_type": "code",
   "execution_count": null,
   "id": "25e4d319-61a9-4b6a-950f-2cf0925270d1",
   "metadata": {},
   "outputs": [],
   "source": [
    "#elevatorsystem\n",
    "class Elevator:\n",
    "    def __init__(self, max_floor):\n",
    "        self.current_floor = 0\n",
    "        self.max_floor = max_floor\n",
    "\n",
    "    def move_to(self, floor):\n",
    "        if floor>=0 and floor <= self.max_floor:\n",
    "            print(f\"Moving from floor {self.current_floor} to floor {floor}\")\n",
    "            self.current_floor = floor\n",
    "        else:\n",
    "            print(\"Invalid floor\")\n",
    "\n",
    "    def status(self):\n",
    "        print(f\"Elevator is at floor {self.current_floor}\")\n",
    "\n",
    "\n",
    "elevator = Elevator(10)\n",
    "elevator.status()\n",
    "elevator.move_to(5)\n",
    "elevator.move_to(11)\n",
    "elevator.move_to(0)"
   ]
  }
 ],
 "metadata": {
  "kernelspec": {
   "display_name": "Python 3 (ipykernel)",
   "language": "python",
   "name": "python3"
  },
  "language_info": {
   "codemirror_mode": {
    "name": "ipython",
    "version": 3
   },
   "file_extension": ".py",
   "mimetype": "text/x-python",
   "name": "python",
   "nbconvert_exporter": "python",
   "pygments_lexer": "ipython3",
   "version": "3.13.2"
  }
 },
 "nbformat": 4,
 "nbformat_minor": 5
}
