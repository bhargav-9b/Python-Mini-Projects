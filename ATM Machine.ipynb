{
 "cells": [
  {
   "cell_type": "code",
   "execution_count": 2,
   "id": "5f258f1e-ee5d-4608-8b9c-16b0c2441bff",
   "metadata": {},
   "outputs": [
    {
     "name": "stdout",
     "output_type": "stream",
     "text": [
      "Available Balance: 10000\n",
      "Deposited: 2000, New Balance: 12000\n",
      "Withdrawn: 3000, Remaining Balance: 9000\n"
     ]
    }
   ],
   "source": [
    "#ATMmachine\n",
    "class Account:\n",
    "    def __init__(self, account_number, pin, balance=0):\n",
    "        self.account_number = account_number\n",
    "        self.pin = pin\n",
    "        self.balance = balance\n",
    "\n",
    "    def deposit(self, amount):\n",
    "        self.balance += amount\n",
    "        print(f\"Deposited: {amount}, New Balance: {self.balance}\")\n",
    "\n",
    "    def withdraw(self, amount):\n",
    "        if amount > self.balance:\n",
    "            print(\"Insufficient Balance\")\n",
    "        else:\n",
    "            self.balance -= amount\n",
    "            print(f\"Withdrawn: {amount}, Remaining Balance: {self.balance}\")\n",
    "\n",
    "    def check_balance(self):\n",
    "        print(f\"Available Balance: {self.balance}\")\n",
    "\n",
    "\n",
    "class ATM:\n",
    "    def __init__(self):\n",
    "        self.accounts = {}\n",
    "\n",
    "    def add_account(self, account):\n",
    "        self.accounts[account.account_number] = account\n",
    "\n",
    "    def authenticate(self, account_number, pin):\n",
    "        account = self.accounts.get(account_number)\n",
    "        if account and account.pin == pin:\n",
    "            return account\n",
    "        return None\n",
    "\n",
    "\n",
    "atm = ATM()\n",
    "acc1 = Account(\"1234\", \"0000\", 10000)\n",
    "atm.add_account(acc1)\n",
    "\n",
    "user = atm.authenticate(\"1234\", \"0000\")\n",
    "if user:\n",
    "    user.check_balance()\n",
    "    user.deposit(2000)\n",
    "    user.withdraw(3000)\n",
    "else:\n",
    "    print(\"Authentication Failed\")"
   ]
  }
 ],
 "metadata": {
  "kernelspec": {
   "display_name": "Python 3 (ipykernel)",
   "language": "python",
   "name": "python3"
  },
  "language_info": {
   "codemirror_mode": {
    "name": "ipython",
    "version": 3
   },
   "file_extension": ".py",
   "mimetype": "text/x-python",
   "name": "python",
   "nbconvert_exporter": "python",
   "pygments_lexer": "ipython3",
   "version": "3.13.2"
  }
 },
 "nbformat": 4,
 "nbformat_minor": 5
}
