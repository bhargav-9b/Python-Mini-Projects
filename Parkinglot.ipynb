{
 "cells": [
  {
   "cell_type": "code",
   "execution_count": 2,
   "id": "ec7f5078-21f6-402d-b1bb-4b356488b6fd",
   "metadata": {},
   "outputs": [
    {
     "name": "stdout",
     "output_type": "stream",
     "text": [
      "Vehicle AP39DP9567 parked at slot 1\n",
      "Vehicle AP39RJ3075 parked at slot 2\n",
      "Vehicle AP39DP9567 left slot 1\n",
      "Vehicle AP31ED2446 parked at slot 1\n"
     ]
    }
   ],
   "source": [
    "#Parking\n",
    "class Vehicle:\n",
    "    def __init__(self, number):\n",
    "        self.number = number\n",
    "\n",
    "\n",
    "class Slot:\n",
    "    def __init__(self, slot_number):\n",
    "        self.slot_number = slot_number\n",
    "        self.vehicle = None\n",
    "\n",
    "    def park(self, vehicle):\n",
    "        if not self.vehicle:\n",
    "            self.vehicle = vehicle\n",
    "            print(f\"Vehicle {vehicle.number} parked at slot {self.slot_number}\")\n",
    "        else:\n",
    "            print(\"Slot already occupied\")\n",
    "\n",
    "    def unpark(self):\n",
    "        if self.vehicle:\n",
    "            print(f\"Vehicle {self.vehicle.number} left slot {self.slot_number}\")\n",
    "            self.vehicle = None\n",
    "        else:\n",
    "            print(\"Slot already empty\")\n",
    "\n",
    "\n",
    "class ParkingLot:\n",
    "    def __init__(self, size):\n",
    "        self.slots = [Slot(i) for i in range(1, size + 1)]\n",
    "\n",
    "    def park_vehicle(self, vehicle):\n",
    "        for slot in self.slots:\n",
    "            if not slot.vehicle:\n",
    "                slot.park(vehicle)\n",
    "                return\n",
    "        print(\"Parking Lot Full\")\n",
    "\n",
    "    def remove_vehicle(self, slot_number):\n",
    "        if 1 <= slot_number <= len(self.slots):\n",
    "            self.slots[slot_number - 1].unpark()\n",
    "\n",
    "\n",
    "lot = ParkingLot(3)\n",
    "v1 = Vehicle(\"AP39DP9567\")\n",
    "v2 = Vehicle(\"AP39RJ3075\")\n",
    "\n",
    "lot.park_vehicle(v1)\n",
    "lot.park_vehicle(v2)\n",
    "lot.remove_vehicle(1)\n",
    "lot.park_vehicle(Vehicle(\"AP31ED2446\"))"
   ]
  }
 ],
 "metadata": {
  "kernelspec": {
   "display_name": "Python 3 (ipykernel)",
   "language": "python",
   "name": "python3"
  },
  "language_info": {
   "codemirror_mode": {
    "name": "ipython",
    "version": 3
   },
   "file_extension": ".py",
   "mimetype": "text/x-python",
   "name": "python",
   "nbconvert_exporter": "python",
   "pygments_lexer": "ipython3",
   "version": "3.13.2"
  }
 },
 "nbformat": 4,
 "nbformat_minor": 5
}
