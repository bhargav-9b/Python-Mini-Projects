{
 "cells": [
  {
   "cell_type": "code",
   "execution_count": null,
   "id": "431b19ba-1751-4433-8532-4851239d6cbc",
   "metadata": {},
   "outputs": [],
   "source": [
    "#bookmyshow\n",
    "class Seat:\n",
    "    def __init__(self, seat_number):\n",
    "        self.seat_number = seat_number\n",
    "        self.is_booked = False\n",
    "\n",
    "    def book(self):\n",
    "        if not self.is_booked:\n",
    "            self.is_booked = True\n",
    "            print(f\"Seat {self.seat_number} booked.\")\n",
    "        else:\n",
    "            print(f\"Seat {self.seat_number} already booked.\")\n",
    "\n",
    "\n",
    "class Show:\n",
    "    def __init__(self, movie_name, total_seats):\n",
    "        self.movie_name = movie_name\n",
    "        self.seats = [Seat(i) for i in range(1, total_seats + 1)]\n",
    "\n",
    "    def book_seat(self, seat_number):\n",
    "        if 1 <= seat_number <= len(self.seats):\n",
    "            self.seats[seat_number - 1].book()\n",
    "        else:\n",
    "            print(\"Invalid Seat Number\")\n",
    "\n",
    "    def display_seats(self):\n",
    "        for seat in self.seats:\n",
    "            print(f\"Seat {seat.seat_number}: {'Booked' if seat.is_booked else 'Available'}\")\n",
    "\n",
    "\n",
    "show = Show(\"SitaRamam\", 5)\n",
    "show.display_seats()\n",
    "show.book_seat(2)\n",
    "show.book_seat(2)\n",
    "show.display_seats()"
   ]
  }
 ],
 "metadata": {
  "kernelspec": {
   "display_name": "Python 3 (ipykernel)",
   "language": "python",
   "name": "python3"
  },
  "language_info": {
   "codemirror_mode": {
    "name": "ipython",
    "version": 3
   },
   "file_extension": ".py",
   "mimetype": "text/x-python",
   "name": "python",
   "nbconvert_exporter": "python",
   "pygments_lexer": "ipython3",
   "version": "3.13.2"
  }
 },
 "nbformat": 4,
 "nbformat_minor": 5
}
